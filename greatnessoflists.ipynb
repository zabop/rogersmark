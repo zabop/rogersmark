{
 "cells": [
  {
   "cell_type": "code",
   "execution_count": 1,
   "metadata": {},
   "outputs": [
    {
     "name": "stdout",
     "output_type": "stream",
     "text": [
      "Not every element of list1 is greater than the corresponding element of list2.\n"
     ]
    }
   ],
   "source": [
    "#if reading in from a csv file, I recommend using: pandas.read_csv(inputfile)\n",
    "\n",
    "# declare 2 lists as example lists\n",
    "list1=[3,4,5,6,7,8,9,10,11,23,25,47,875,2343]\n",
    "list2=[40,40,41,25,345,653,565,34,99,11,2,2,2,2]\n",
    "\n",
    "checkingarray=[] #list to be filled later\n",
    "for index, each in enumerate(list1):\n",
    "    if each>list2[index]:\n",
    "        checkingarray.append(0) # add 0 to checkingarray if the element considered from list1 is greater than the corresponding element from list2\n",
    "    else:\n",
    "        checkingarray.append(1) # otherwise append checkingarray with a 1\n",
    "        break # this break is optional, it makes the for loop stop after encountering a single element in list1 which is not greater than the correspondig element in list2\n",
    "        \n",
    "if sum(checkingarray)==0: # check if there is a 1 in the list or not\n",
    "    print('Every element of list1 is greater than the corresponding element of list2.') #stating the result\n",
    "    # you can do other stuff here\n",
    "else:\n",
    "    print('Not every element of list1 is greater than the corresponding element of list2.') # stating the result\n",
    "    # you can do other stuff here"
   ]
  },
  {
   "cell_type": "code",
   "execution_count": null,
   "metadata": {},
   "outputs": [],
   "source": []
  }
 ],
 "metadata": {
  "kernelspec": {
   "display_name": "Python 3",
   "language": "python",
   "name": "python3"
  },
  "language_info": {
   "codemirror_mode": {
    "name": "ipython",
    "version": 3
   },
   "file_extension": ".py",
   "mimetype": "text/x-python",
   "name": "python",
   "nbconvert_exporter": "python",
   "pygments_lexer": "ipython3",
   "version": "3.5.2"
  }
 },
 "nbformat": 4,
 "nbformat_minor": 2
}
